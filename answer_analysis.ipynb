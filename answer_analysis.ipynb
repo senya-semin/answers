{
 "cells": [
  {
   "cell_type": "code",
   "execution_count": 1,
   "metadata": {},
   "outputs": [],
   "source": [
    "import pandas as pd"
   ]
  },
  {
   "cell_type": "code",
   "execution_count": 7,
   "metadata": {},
   "outputs": [],
   "source": [
    "questions = 0\n",
    "lecture = 1"
   ]
  },
  {
   "cell_type": "code",
   "execution_count": 2,
   "metadata": {},
   "outputs": [],
   "source": [
    "lectures = pd.read_csv('lectures.csv')\n",
    "questions = pd.read_csv('questions.csv')\n",
    "train = pd.read_csv('train.csv')"
   ]
  },
  {
   "cell_type": "code",
   "execution_count": 5,
   "metadata": {},
   "outputs": [],
   "source": [
    "# Изменим тип prior_questuin_had_explanation на float\n",
    "train[\"prior_question_had_explanation\"] = train.prior_question_had_explanation.astype(float)"
   ]
  },
  {
   "cell_type": "code",
   "execution_count": 8,
   "metadata": {},
   "outputs": [],
   "source": [
    "# Используем dropna() для \"вопросов\",\n",
    "# исходя из описания для prior_question_had_explanation, где указано,\n",
    "# что это вопросы без обратной связи, используемые для диагностики.\n",
    "train_questions = train[train.content_type_id == questions].dropna()"
   ]
  },
  {
   "cell_type": "code",
   "execution_count": 9,
   "metadata": {},
   "outputs": [],
   "source": [
    "# Уберём лишние колонки из train таблицы для лекций.\n",
    "not_required_columns = [\n",
    "    \"prior_question_had_explanation\",\n",
    "    \"prior_question_elapsed_time\", \"answered_correctly\",\n",
    "    \"user_answer\", \"timestamp\"\n",
    "]\n",
    "train_lectures = train[\n",
    "    train.content_type_id == lecture\n",
    "].drop(\n",
    "    not_required_columns, axis=1\n",
    ")"
   ]
  },
  {
   "cell_type": "code",
   "execution_count": 10,
   "metadata": {},
   "outputs": [
    {
     "data": {
      "text/html": [
       "<div>\n",
       "<style scoped>\n",
       "    .dataframe tbody tr th:only-of-type {\n",
       "        vertical-align: middle;\n",
       "    }\n",
       "\n",
       "    .dataframe tbody tr th {\n",
       "        vertical-align: top;\n",
       "    }\n",
       "\n",
       "    .dataframe thead th {\n",
       "        text-align: right;\n",
       "    }\n",
       "</style>\n",
       "<table border=\"1\" class=\"dataframe\">\n",
       "  <thead>\n",
       "    <tr style=\"text-align: right;\">\n",
       "      <th></th>\n",
       "      <th>timestamp</th>\n",
       "      <th>answered_correctly</th>\n",
       "      <th>prior_question_elapsed_time</th>\n",
       "      <th>prior_question_had_explanation</th>\n",
       "    </tr>\n",
       "  </thead>\n",
       "  <tbody>\n",
       "    <tr>\n",
       "      <th>count</th>\n",
       "      <td>9.887879e+07</td>\n",
       "      <td>9.887879e+07</td>\n",
       "      <td>9.887879e+07</td>\n",
       "      <td>9.887879e+07</td>\n",
       "    </tr>\n",
       "    <tr>\n",
       "      <th>mean</th>\n",
       "      <td>7.732632e+09</td>\n",
       "      <td>6.571448e-01</td>\n",
       "      <td>2.542381e+04</td>\n",
       "      <td>9.070252e-01</td>\n",
       "    </tr>\n",
       "    <tr>\n",
       "      <th>std</th>\n",
       "      <td>1.160779e+10</td>\n",
       "      <td>4.746636e-01</td>\n",
       "      <td>1.994815e+04</td>\n",
       "      <td>2.903971e-01</td>\n",
       "    </tr>\n",
       "    <tr>\n",
       "      <th>min</th>\n",
       "      <td>0.000000e+00</td>\n",
       "      <td>0.000000e+00</td>\n",
       "      <td>0.000000e+00</td>\n",
       "      <td>0.000000e+00</td>\n",
       "    </tr>\n",
       "    <tr>\n",
       "      <th>25%</th>\n",
       "      <td>5.302152e+08</td>\n",
       "      <td>0.000000e+00</td>\n",
       "      <td>1.600000e+04</td>\n",
       "      <td>1.000000e+00</td>\n",
       "    </tr>\n",
       "    <tr>\n",
       "      <th>50%</th>\n",
       "      <td>2.688358e+09</td>\n",
       "      <td>1.000000e+00</td>\n",
       "      <td>2.100000e+04</td>\n",
       "      <td>1.000000e+00</td>\n",
       "    </tr>\n",
       "    <tr>\n",
       "      <th>75%</th>\n",
       "      <td>9.988412e+09</td>\n",
       "      <td>1.000000e+00</td>\n",
       "      <td>2.966600e+04</td>\n",
       "      <td>1.000000e+00</td>\n",
       "    </tr>\n",
       "    <tr>\n",
       "      <th>max</th>\n",
       "      <td>8.742577e+10</td>\n",
       "      <td>1.000000e+00</td>\n",
       "      <td>3.000000e+05</td>\n",
       "      <td>1.000000e+00</td>\n",
       "    </tr>\n",
       "  </tbody>\n",
       "</table>\n",
       "</div>"
      ],
      "text/plain": [
       "          timestamp  answered_correctly  prior_question_elapsed_time  \\\n",
       "count  9.887879e+07        9.887879e+07                 9.887879e+07   \n",
       "mean   7.732632e+09        6.571448e-01                 2.542381e+04   \n",
       "std    1.160779e+10        4.746636e-01                 1.994815e+04   \n",
       "min    0.000000e+00        0.000000e+00                 0.000000e+00   \n",
       "25%    5.302152e+08        0.000000e+00                 1.600000e+04   \n",
       "50%    2.688358e+09        1.000000e+00                 2.100000e+04   \n",
       "75%    9.988412e+09        1.000000e+00                 2.966600e+04   \n",
       "max    8.742577e+10        1.000000e+00                 3.000000e+05   \n",
       "\n",
       "       prior_question_had_explanation  \n",
       "count                    9.887879e+07  \n",
       "mean                     9.070252e-01  \n",
       "std                      2.903971e-01  \n",
       "min                      0.000000e+00  \n",
       "25%                      1.000000e+00  \n",
       "50%                      1.000000e+00  \n",
       "75%                      1.000000e+00  \n",
       "max                      1.000000e+00  "
      ]
     },
     "execution_count": 10,
     "metadata": {},
     "output_type": "execute_result"
    }
   ],
   "source": [
    "# Проанализуем полное описание полученной таблицы\n",
    "main_columns = [\n",
    "        \"timestamp\", \"answered_correctly\",\n",
    "        \"prior_question_elapsed_time\",\n",
    "        \"prior_question_had_explanation\"\n",
    "    ]\n",
    "train_questions.filter(main_columns).describe()"
   ]
  },
  {
   "cell_type": "code",
   "execution_count": 11,
   "metadata": {},
   "outputs": [
    {
     "data": {
      "text/html": [
       "<div>\n",
       "<style scoped>\n",
       "    .dataframe tbody tr th:only-of-type {\n",
       "        vertical-align: middle;\n",
       "    }\n",
       "\n",
       "    .dataframe tbody tr th {\n",
       "        vertical-align: top;\n",
       "    }\n",
       "\n",
       "    .dataframe thead th {\n",
       "        text-align: right;\n",
       "    }\n",
       "</style>\n",
       "<table border=\"1\" class=\"dataframe\">\n",
       "  <thead>\n",
       "    <tr style=\"text-align: right;\">\n",
       "      <th></th>\n",
       "      <th>answered_correctly</th>\n",
       "      <th>prior_question_elapsed_time</th>\n",
       "    </tr>\n",
       "  </thead>\n",
       "  <tbody>\n",
       "    <tr>\n",
       "      <th>0</th>\n",
       "      <td>0</td>\n",
       "      <td>25641.991586</td>\n",
       "    </tr>\n",
       "    <tr>\n",
       "      <th>1</th>\n",
       "      <td>1</td>\n",
       "      <td>25309.977185</td>\n",
       "    </tr>\n",
       "  </tbody>\n",
       "</table>\n",
       "</div>"
      ],
      "text/plain": [
       "   answered_correctly  prior_question_elapsed_time\n",
       "0                   0                 25641.991586\n",
       "1                   1                 25309.977185"
      ]
     },
     "execution_count": 11,
     "metadata": {},
     "output_type": "execute_result"
    }
   ],
   "source": [
    "# region Зависимость правильности ответов от времени, затраченного на ответ\n",
    "train_questions.groupby(\n",
    "            [\"answered_correctly\"], as_index=False\n",
    "        ).aggregate(\n",
    "            {'prior_question_elapsed_time': 'mean'}\n",
    "        ).sort_values(\n",
    "            \"answered_correctly\"\n",
    "        )"
   ]
  },
  {
   "cell_type": "markdown",
   "metadata": {},
   "source": [
    "Явной корреляции не наблюдается"
   ]
  },
  {
   "cell_type": "code",
   "execution_count": 12,
   "metadata": {},
   "outputs": [
    {
     "data": {
      "text/html": [
       "<div>\n",
       "<style scoped>\n",
       "    .dataframe tbody tr th:only-of-type {\n",
       "        vertical-align: middle;\n",
       "    }\n",
       "\n",
       "    .dataframe tbody tr th {\n",
       "        vertical-align: top;\n",
       "    }\n",
       "\n",
       "    .dataframe thead th {\n",
       "        text-align: right;\n",
       "    }\n",
       "</style>\n",
       "<table border=\"1\" class=\"dataframe\">\n",
       "  <thead>\n",
       "    <tr style=\"text-align: right;\">\n",
       "      <th></th>\n",
       "      <th>answered_correctly</th>\n",
       "    </tr>\n",
       "    <tr>\n",
       "      <th>prior_question_had_explanation</th>\n",
       "      <th></th>\n",
       "    </tr>\n",
       "  </thead>\n",
       "  <tbody>\n",
       "    <tr>\n",
       "      <th>0.0</th>\n",
       "      <td>0.500629</td>\n",
       "    </tr>\n",
       "    <tr>\n",
       "      <th>1.0</th>\n",
       "      <td>0.673189</td>\n",
       "    </tr>\n",
       "  </tbody>\n",
       "</table>\n",
       "</div>"
      ],
      "text/plain": [
       "                                answered_correctly\n",
       "prior_question_had_explanation                    \n",
       "0.0                                       0.500629\n",
       "1.0                                       0.673189"
      ]
     },
     "execution_count": 12,
     "metadata": {},
     "output_type": "execute_result"
    }
   ],
   "source": [
    "# region Зависимость правильности ответа от чтения пояснений к вопросам\n",
    "train_questions.filter(\n",
    "        [\"prior_question_had_explanation\", \"answered_correctly\"]\n",
    "    ).groupby(\n",
    "        'prior_question_had_explanation'\n",
    "    ).aggregate(\n",
    "        {'answered_correctly': 'mean'}\n",
    "    )"
   ]
  },
  {
   "cell_type": "markdown",
   "metadata": {},
   "source": [
    "Вывод: Пользователь, прочитавший пояснение к предыдущему блоку вопросов, с большей вероятность верно ответит на следующий вопрос"
   ]
  },
  {
   "cell_type": "code",
   "execution_count": 13,
   "metadata": {},
   "outputs": [
    {
     "data": {
      "text/html": [
       "<div>\n",
       "<style scoped>\n",
       "    .dataframe tbody tr th:only-of-type {\n",
       "        vertical-align: middle;\n",
       "    }\n",
       "\n",
       "    .dataframe tbody tr th {\n",
       "        vertical-align: top;\n",
       "    }\n",
       "\n",
       "    .dataframe thead th {\n",
       "        text-align: right;\n",
       "    }\n",
       "</style>\n",
       "<table border=\"1\" class=\"dataframe\">\n",
       "  <thead>\n",
       "    <tr style=\"text-align: right;\">\n",
       "      <th></th>\n",
       "      <th>answered_correctly</th>\n",
       "    </tr>\n",
       "    <tr>\n",
       "      <th>current_question_explained</th>\n",
       "      <th></th>\n",
       "    </tr>\n",
       "  </thead>\n",
       "  <tbody>\n",
       "    <tr>\n",
       "      <th>0.0</th>\n",
       "      <td>0.503717</td>\n",
       "    </tr>\n",
       "    <tr>\n",
       "      <th>1.0</th>\n",
       "      <td>0.672872</td>\n",
       "    </tr>\n",
       "  </tbody>\n",
       "</table>\n",
       "</div>"
      ],
      "text/plain": [
       "                            answered_correctly\n",
       "current_question_explained                    \n",
       "0.0                                   0.503717\n",
       "1.0                                   0.672872"
      ]
     },
     "execution_count": 13,
     "metadata": {},
     "output_type": "execute_result"
    }
   ],
   "source": [
    "# Проверим эту теорию про чтение к текущим вопросами\n",
    "train_questions[\"current_question_explained\"] = train_questions.prior_question_had_explanation.shift(1)\n",
    "\n",
    "train_questions.filter(\n",
    "    [\"current_question_explained\", \"answered_correctly\"]\n",
    ").groupby(\n",
    "    'current_question_explained'\n",
    ").aggregate(\n",
    "    {'answered_correctly': 'mean'}\n",
    ")\n"
   ]
  },
  {
   "cell_type": "markdown",
   "metadata": {},
   "source": [
    "Вывод: После правильного ответа пользователи чаще смотрят пояснения, чем после неправильного"
   ]
  }
 ],
 "metadata": {
  "kernelspec": {
   "display_name": "Python 3",
   "language": "python",
   "name": "python3"
  },
  "language_info": {
   "codemirror_mode": {
    "name": "ipython",
    "version": 3
   },
   "file_extension": ".py",
   "mimetype": "text/x-python",
   "name": "python",
   "nbconvert_exporter": "python",
   "pygments_lexer": "ipython3",
   "version": "3.12.6"
  }
 },
 "nbformat": 4,
 "nbformat_minor": 2
}
